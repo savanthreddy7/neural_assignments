{
 "cells": [
  {
   "cell_type": "code",
   "execution_count": null,
   "id": "1d95ffd8",
   "metadata": {},
   "outputs": [],
   "source": []
  },
  {
   "cell_type": "code",
   "execution_count": 1,
   "id": "7525bc46",
   "metadata": {},
   "outputs": [
    {
     "name": "stdout",
     "output_type": "stream",
     "text": [
      "Enter your first name: savanth reddy\n",
      "Enter your last name: muddadi\n",
      "Your full name is: savanth reddy muddadi\n"
     ]
    }
   ],
   "source": [
    "def fullname(first_name, last_name):\n",
    "    return first_name + \" \" + last_name\n",
    "\n",
    "# Get user input\n",
    "first_name = input(\"Enter your first name: \")\n",
    "last_name = input(\"Enter your last name: \")\n",
    "\n",
    "# Call the fullname function\n",
    "full_name = fullname(first_name, last_name)\n",
    "\n",
    "# Display the result\n",
    "print(\"Your full name is:\", full_name)\n"
   ]
  },
  {
   "cell_type": "code",
   "execution_count": 2,
   "id": "44ec9be8",
   "metadata": {},
   "outputs": [
    {
     "name": "stdout",
     "output_type": "stream",
     "text": [
      "Enter your first name: savanth reddy\n",
      "Enter your last name: muddadi\n",
      "Your full name is: savanth reddy muddadi\n",
      "Every other character in the full name: svnhrdymdai\n"
     ]
    }
   ],
   "source": [
    "def string_alternative(input_string):\n",
    "    return input_string[::2]\n",
    "\n",
    "def main():\n",
    "    # Get user input\n",
    "    first_name = input(\"Enter your first name: \")\n",
    "    last_name = input(\"Enter your last name: \")\n",
    "\n",
    "    # Call the fullname function\n",
    "    full_name = fullname(first_name, last_name)\n",
    "\n",
    "    # Display the full name\n",
    "    print(\"Your full name is:\", full_name)\n",
    "\n",
    "    # Call the string_alternative function\n",
    "    result = string_alternative(full_name)\n",
    "\n",
    "    # Display the result\n",
    "    print(\"Every other character in the full name:\", result)\n",
    "\n",
    "# Call the main function\n",
    "main()\n"
   ]
  },
  {
   "cell_type": "code",
   "execution_count": 6,
   "id": "bb93458c",
   "metadata": {},
   "outputs": [
    {
     "name": "stdout",
     "output_type": "stream",
     "text": [
      "Python Course\n",
      "Word_Count:\n",
      "Python: 1\n",
      "Course: 1\n",
      "\n",
      "Deep Learning Course\n",
      "Word_Count:\n",
      "Deep: 1\n",
      "Learning: 1\n",
      "Course: 1\n",
      "\n"
     ]
    }
   ],
   "source": [
    "def word_count(line):\n",
    "    words = line.split()\n",
    "    word_count_dict = {}\n",
    "\n",
    "    for word in words:\n",
    "        word_count_dict[word] = word_count_dict.get(word, 0) + 1\n",
    "\n",
    "    return word_count_dict\n",
    "\n",
    "def main():\n",
    "    # Read input from input.txt\n",
    "    with open(\"C:/Users/asus/OneDrive/Desktop/input.txt\", \"r\") as input_file:\n",
    "        lines = input_file.readlines()\n",
    "\n",
    "    # Process each line and print the output\n",
    "    for line in lines:\n",
    "        print(line.strip())\n",
    "\n",
    "        # Calculate word count for the line\n",
    "        counts = word_count(line)\n",
    "\n",
    "        # Print word counts\n",
    "        print(\"Word_Count:\")\n",
    "        for word, count in counts.items():\n",
    "            print(f\"{word}: {count}\")\n",
    "\n",
    "        print()\n",
    "\n",
    "    # Store the output in output.txt\n",
    "    with open(\"output.txt\", \"w\") as output_file:\n",
    "        for line in lines:\n",
    "            output_file.write(line.strip() + \"\\n\")\n",
    "            counts = word_count(line)\n",
    "            for word, count in counts.items():\n",
    "                output_file.write(f\"{word}: {count}\\n\")\n",
    "            output_file.write(\"\\n\")\n",
    "\n",
    "if __name__ == \"__main__\":\n",
    "    main()\n"
   ]
  },
  {
   "cell_type": "code",
   "execution_count": 9,
   "id": "fd636086",
   "metadata": {},
   "outputs": [
    {
     "name": "stdout",
     "output_type": "stream",
     "text": [
      "Enter the number of customers: 4\n",
      "Enter height of customer 1 in inches: 160\n",
      "Enter height of customer 2 in inches: 170\n",
      "Enter height of customer 3 in inches: 180\n",
      "Enter height of customer 4 in inches: 190\n",
      "Input Heights (in inches): [160.0, 170.0, 180.0, 190.0]\n",
      "Output Heights (in centimeters) using Nested Loop: [406.4, 431.8, 457.2, 482.6]\n",
      "Output Heights (in centimeters) using List Comprehension: [406.4, 431.8, 457.2, 482.6]\n"
     ]
    }
   ],
   "source": [
    "def convert_to_centimeters(heights):\n",
    "    # Using nested interactive loop\n",
    "    heights_cm_nested = []\n",
    "    for height in heights:\n",
    "        height_cm = height * 2.54\n",
    "        heights_cm_nested.append(round(height_cm, 2))\n",
    "\n",
    "    # Using list comprehension\n",
    "    heights_cm_comprehension = [round(height * 2.54, 2) for height in heights]\n",
    "\n",
    "    return heights_cm_nested, heights_cm_comprehension\n",
    "\n",
    "def main():\n",
    "    # Read heights from the user\n",
    "    heights = []\n",
    "    num_customers = int(input(\"Enter the number of customers: \"))\n",
    "\n",
    "    for i in range(num_customers):\n",
    "        height = float(input(f\"Enter height of customer {i + 1} in inches: \"))\n",
    "        heights.append(height)\n",
    "\n",
    "    # Convert heights to centimeters\n",
    "    heights_cm_nested, heights_cm_comprehension = convert_to_centimeters(heights)\n",
    "\n",
    "    # Print the output\n",
    "    print(\"Input Heights (in inches):\", heights)\n",
    "    print(\"Output Heights (in centimeters) using Nested Loop:\", heights_cm_nested)\n",
    "    print(\"Output Heights (in centimeters) using List Comprehension:\", heights_cm_comprehension)\n",
    "\n",
    "if __name__ == \"__main__\":\n",
    "    main()\n"
   ]
  },
  {
   "cell_type": "code",
   "execution_count": null,
   "id": "68a0bfc7",
   "metadata": {},
   "outputs": [],
   "source": []
  }
 ],
 "metadata": {
  "kernelspec": {
   "display_name": "Python 3 (ipykernel)",
   "language": "python",
   "name": "python3"
  },
  "language_info": {
   "codemirror_mode": {
    "name": "ipython",
    "version": 3
   },
   "file_extension": ".py",
   "mimetype": "text/x-python",
   "name": "python",
   "nbconvert_exporter": "python",
   "pygments_lexer": "ipython3",
   "version": "3.11.5"
  }
 },
 "nbformat": 4,
 "nbformat_minor": 5
}
